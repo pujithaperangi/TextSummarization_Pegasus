{
 "cells": [
  {
   "cell_type": "code",
   "execution_count": 2,
   "metadata": {},
   "outputs": [
    {
     "name": "stderr",
     "output_type": "stream",
     "text": [
      "WARNING: Skipping ipython-sql as it is not installed.\n",
      "ERROR: Invalid requirement: '#': Expected package name at the start of dependency specifier\n",
      "    #\n",
      "    ^\n"
     ]
    }
   ],
   "source": [
    "#!pip install --upgrade sqlalchemy==1.4.52  # Downgrade to the previous version\n",
    "#!pip install transformers dataset sacrebleu rouge_score py7zr -q\n",
    "\n",
    "# Uninstall ipython-sql temporarily\n",
    "!pip uninstall -y ipython-sql\n",
    "\n",
    "# Downgrade SQLAlchemy and install required packages\n",
    "!pip  install sqlalchemy==1.4.52 transformers dataset sacrebleu rouge_score py7zr -q\n",
    "\n",
    "# Reinstall a compatible version of ipython-sql\n",
    "!pip  install ipython-sql==0.4.1  # Choose a compatible version\n"
   ]
  },
  {
   "cell_type": "code",
   "execution_count": 3,
   "metadata": {},
   "outputs": [
    {
     "name": "stdout",
     "output_type": "stream",
     "text": [
      "Thu Jul 11 18:04:53 2024       \n",
      "+---------------------------------------------------------------------------------------+\n",
      "| NVIDIA-SMI 546.80                 Driver Version: 546.80       CUDA Version: 12.3     |\n",
      "|-----------------------------------------+----------------------+----------------------+\n",
      "| GPU  Name                     TCC/WDDM  | Bus-Id        Disp.A | Volatile Uncorr. ECC |\n",
      "| Fan  Temp   Perf          Pwr:Usage/Cap |         Memory-Usage | GPU-Util  Compute M. |\n",
      "|                                         |                      |               MIG M. |\n",
      "|=========================================+======================+======================|\n",
      "|   0  NVIDIA GeForce RTX 3050 ...  WDDM  | 00000000:01:00.0 Off |                  N/A |\n",
      "| N/A   40C    P3              12W /  30W |      0MiB /  4096MiB |      0%      Default |\n",
      "|                                         |                      |                  N/A |\n",
      "+-----------------------------------------+----------------------+----------------------+\n",
      "                                                                                         \n",
      "+---------------------------------------------------------------------------------------+\n",
      "| Processes:                                                                            |\n",
      "|  GPU   GI   CI        PID   Type   Process name                            GPU Memory |\n",
      "|        ID   ID                                                             Usage      |\n",
      "|=======================================================================================|\n",
      "|  No running processes found                                                           |\n",
      "+---------------------------------------------------------------------------------------+\n"
     ]
    }
   ],
   "source": [
    "!nvidia-smi"
   ]
  },
  {
   "cell_type": "code",
   "execution_count": 4,
   "metadata": {},
   "outputs": [
    {
     "name": "stdout",
     "output_type": "stream",
     "text": [
      "Requirement already satisfied: transformers in c:\\users\\pujit\\appdata\\local\\programs\\python\\python312\\lib\\site-packages (4.42.3)\n",
      "Requirement already satisfied: datasets in c:\\users\\pujit\\appdata\\local\\programs\\python\\python312\\lib\\site-packages (2.20.0)\n",
      "Requirement already satisfied: sacrebleu in c:\\users\\pujit\\appdata\\local\\programs\\python\\python312\\lib\\site-packages (2.4.2)\n",
      "Requirement already satisfied: rouge_score in c:\\users\\pujit\\appdata\\local\\programs\\python\\python312\\lib\\site-packages (0.1.2)\n",
      "Requirement already satisfied: py7zr in c:\\users\\pujit\\appdata\\local\\programs\\python\\python312\\lib\\site-packages (0.21.1)\n",
      "Collecting matplotlib\n",
      "  Downloading matplotlib-3.9.1-cp312-cp312-win_amd64.whl.metadata (11 kB)\n",
      "Requirement already satisfied: nltk in c:\\users\\pujit\\appdata\\local\\programs\\python\\python312\\lib\\site-packages (3.8.1)\n",
      "Requirement already satisfied: pandas in c:\\users\\pujit\\appdata\\local\\programs\\python\\python312\\lib\\site-packages (2.2.2)\n",
      "Requirement already satisfied: tqdm in c:\\users\\pujit\\appdata\\local\\programs\\python\\python312\\lib\\site-packages (4.66.4)\n",
      "Requirement already satisfied: filelock in c:\\users\\pujit\\appdata\\local\\programs\\python\\python312\\lib\\site-packages (from transformers) (3.15.4)\n",
      "Requirement already satisfied: huggingface-hub<1.0,>=0.23.2 in c:\\users\\pujit\\appdata\\local\\programs\\python\\python312\\lib\\site-packages (from transformers) (0.23.4)\n",
      "Requirement already satisfied: numpy<2.0,>=1.17 in c:\\users\\pujit\\appdata\\local\\programs\\python\\python312\\lib\\site-packages (from transformers) (1.26.4)\n",
      "Requirement already satisfied: packaging>=20.0 in c:\\users\\pujit\\appdata\\local\\programs\\python\\python312\\lib\\site-packages (from transformers) (24.1)\n",
      "Requirement already satisfied: pyyaml>=5.1 in c:\\users\\pujit\\appdata\\local\\programs\\python\\python312\\lib\\site-packages (from transformers) (6.0.1)\n",
      "Requirement already satisfied: regex!=2019.12.17 in c:\\users\\pujit\\appdata\\local\\programs\\python\\python312\\lib\\site-packages (from transformers) (2024.5.15)\n",
      "Requirement already satisfied: requests in c:\\users\\pujit\\appdata\\local\\programs\\python\\python312\\lib\\site-packages (from transformers) (2.32.3)\n",
      "Requirement already satisfied: safetensors>=0.4.1 in c:\\users\\pujit\\appdata\\local\\programs\\python\\python312\\lib\\site-packages (from transformers) (0.4.3)\n",
      "Requirement already satisfied: tokenizers<0.20,>=0.19 in c:\\users\\pujit\\appdata\\local\\programs\\python\\python312\\lib\\site-packages (from transformers) (0.19.1)\n",
      "Requirement already satisfied: pyarrow>=15.0.0 in c:\\users\\pujit\\appdata\\local\\programs\\python\\python312\\lib\\site-packages (from datasets) (16.1.0)\n",
      "Requirement already satisfied: pyarrow-hotfix in c:\\users\\pujit\\appdata\\local\\programs\\python\\python312\\lib\\site-packages (from datasets) (0.6)\n",
      "Requirement already satisfied: dill<0.3.9,>=0.3.0 in c:\\users\\pujit\\appdata\\local\\programs\\python\\python312\\lib\\site-packages (from datasets) (0.3.8)\n",
      "Requirement already satisfied: xxhash in c:\\users\\pujit\\appdata\\local\\programs\\python\\python312\\lib\\site-packages (from datasets) (3.4.1)\n",
      "Requirement already satisfied: multiprocess in c:\\users\\pujit\\appdata\\local\\programs\\python\\python312\\lib\\site-packages (from datasets) (0.70.16)\n",
      "Requirement already satisfied: fsspec<=2024.5.0,>=2023.1.0 in c:\\users\\pujit\\appdata\\local\\programs\\python\\python312\\lib\\site-packages (from fsspec[http]<=2024.5.0,>=2023.1.0->datasets) (2024.5.0)\n",
      "Requirement already satisfied: aiohttp in c:\\users\\pujit\\appdata\\local\\programs\\python\\python312\\lib\\site-packages (from datasets) (3.9.5)\n",
      "Requirement already satisfied: portalocker in c:\\users\\pujit\\appdata\\local\\programs\\python\\python312\\lib\\site-packages (from sacrebleu) (2.10.0)\n",
      "Requirement already satisfied: tabulate>=0.8.9 in c:\\users\\pujit\\appdata\\local\\programs\\python\\python312\\lib\\site-packages (from sacrebleu) (0.9.0)\n",
      "Requirement already satisfied: colorama in c:\\users\\pujit\\appdata\\local\\programs\\python\\python312\\lib\\site-packages (from sacrebleu) (0.4.6)\n",
      "Requirement already satisfied: lxml in c:\\users\\pujit\\appdata\\local\\programs\\python\\python312\\lib\\site-packages (from sacrebleu) (5.2.2)\n",
      "Requirement already satisfied: absl-py in c:\\users\\pujit\\appdata\\local\\programs\\python\\python312\\lib\\site-packages (from rouge_score) (2.1.0)\n",
      "Requirement already satisfied: six>=1.14.0 in c:\\users\\pujit\\appdata\\local\\programs\\python\\python312\\lib\\site-packages (from rouge_score) (1.16.0)\n",
      "Requirement already satisfied: texttable in c:\\users\\pujit\\appdata\\local\\programs\\python\\python312\\lib\\site-packages (from py7zr) (1.7.0)\n",
      "Requirement already satisfied: pycryptodomex>=3.16.0 in c:\\users\\pujit\\appdata\\local\\programs\\python\\python312\\lib\\site-packages (from py7zr) (3.20.0)\n",
      "Requirement already satisfied: pyzstd>=0.15.9 in c:\\users\\pujit\\appdata\\local\\programs\\python\\python312\\lib\\site-packages (from py7zr) (0.16.0)\n",
      "Requirement already satisfied: pyppmd<1.2.0,>=1.1.0 in c:\\users\\pujit\\appdata\\local\\programs\\python\\python312\\lib\\site-packages (from py7zr) (1.1.0)\n",
      "Requirement already satisfied: pybcj<1.1.0,>=1.0.0 in c:\\users\\pujit\\appdata\\local\\programs\\python\\python312\\lib\\site-packages (from py7zr) (1.0.2)\n",
      "Requirement already satisfied: multivolumefile>=0.2.3 in c:\\users\\pujit\\appdata\\local\\programs\\python\\python312\\lib\\site-packages (from py7zr) (0.2.3)\n",
      "Requirement already satisfied: inflate64<1.1.0,>=1.0.0 in c:\\users\\pujit\\appdata\\local\\programs\\python\\python312\\lib\\site-packages (from py7zr) (1.0.0)\n",
      "Requirement already satisfied: brotli>=1.1.0 in c:\\users\\pujit\\appdata\\local\\programs\\python\\python312\\lib\\site-packages (from py7zr) (1.1.0)\n",
      "Requirement already satisfied: psutil in c:\\users\\pujit\\appdata\\roaming\\python\\python312\\site-packages (from py7zr) (6.0.0)\n",
      "Collecting contourpy>=1.0.1 (from matplotlib)\n",
      "  Downloading contourpy-1.2.1-cp312-cp312-win_amd64.whl.metadata (5.8 kB)\n",
      "Collecting cycler>=0.10 (from matplotlib)\n",
      "  Downloading cycler-0.12.1-py3-none-any.whl.metadata (3.8 kB)\n",
      "Collecting fonttools>=4.22.0 (from matplotlib)\n",
      "  Downloading fonttools-4.53.1-cp312-cp312-win_amd64.whl.metadata (165 kB)\n",
      "     ---------------------------------------- 0.0/165.9 kB ? eta -:--:--\n",
      "     ------- ------------------------------- 30.7/165.9 kB 1.4 MB/s eta 0:00:01\n",
      "     ------------------ ------------------ 81.9/165.9 kB 919.0 kB/s eta 0:00:01\n",
      "     -------------------------------- ----- 143.4/165.9 kB 1.2 MB/s eta 0:00:01\n",
      "     -------------------------------------- 165.9/165.9 kB 1.1 MB/s eta 0:00:00\n",
      "Collecting kiwisolver>=1.3.1 (from matplotlib)\n",
      "  Downloading kiwisolver-1.4.5-cp312-cp312-win_amd64.whl.metadata (6.5 kB)\n",
      "Requirement already satisfied: pillow>=8 in c:\\users\\pujit\\appdata\\local\\programs\\python\\python312\\lib\\site-packages (from matplotlib) (10.4.0)\n",
      "Collecting pyparsing>=2.3.1 (from matplotlib)\n",
      "  Downloading pyparsing-3.1.2-py3-none-any.whl.metadata (5.1 kB)\n",
      "Requirement already satisfied: python-dateutil>=2.7 in c:\\users\\pujit\\appdata\\local\\programs\\python\\python312\\lib\\site-packages (from matplotlib) (2.9.0.post0)\n",
      "Requirement already satisfied: click in c:\\users\\pujit\\appdata\\local\\programs\\python\\python312\\lib\\site-packages (from nltk) (8.1.7)\n",
      "Requirement already satisfied: joblib in c:\\users\\pujit\\appdata\\local\\programs\\python\\python312\\lib\\site-packages (from nltk) (1.4.2)\n",
      "Requirement already satisfied: pytz>=2020.1 in c:\\users\\pujit\\appdata\\local\\programs\\python\\python312\\lib\\site-packages (from pandas) (2024.1)\n",
      "Requirement already satisfied: tzdata>=2022.7 in c:\\users\\pujit\\appdata\\local\\programs\\python\\python312\\lib\\site-packages (from pandas) (2024.1)\n",
      "Requirement already satisfied: aiosignal>=1.1.2 in c:\\users\\pujit\\appdata\\local\\programs\\python\\python312\\lib\\site-packages (from aiohttp->datasets) (1.3.1)\n",
      "Requirement already satisfied: attrs>=17.3.0 in c:\\users\\pujit\\appdata\\local\\programs\\python\\python312\\lib\\site-packages (from aiohttp->datasets) (23.2.0)\n",
      "Requirement already satisfied: frozenlist>=1.1.1 in c:\\users\\pujit\\appdata\\local\\programs\\python\\python312\\lib\\site-packages (from aiohttp->datasets) (1.4.1)\n",
      "Requirement already satisfied: multidict<7.0,>=4.5 in c:\\users\\pujit\\appdata\\local\\programs\\python\\python312\\lib\\site-packages (from aiohttp->datasets) (6.0.5)\n",
      "Requirement already satisfied: yarl<2.0,>=1.0 in c:\\users\\pujit\\appdata\\local\\programs\\python\\python312\\lib\\site-packages (from aiohttp->datasets) (1.9.4)\n",
      "Requirement already satisfied: typing-extensions>=3.7.4.3 in c:\\users\\pujit\\appdata\\local\\programs\\python\\python312\\lib\\site-packages (from huggingface-hub<1.0,>=0.23.2->transformers) (4.12.2)\n",
      "Requirement already satisfied: charset-normalizer<4,>=2 in c:\\users\\pujit\\appdata\\local\\programs\\python\\python312\\lib\\site-packages (from requests->transformers) (3.3.2)\n",
      "Requirement already satisfied: idna<4,>=2.5 in c:\\users\\pujit\\appdata\\local\\programs\\python\\python312\\lib\\site-packages (from requests->transformers) (3.7)\n",
      "Requirement already satisfied: urllib3<3,>=1.21.1 in c:\\users\\pujit\\appdata\\local\\programs\\python\\python312\\lib\\site-packages (from requests->transformers) (2.2.2)\n",
      "Requirement already satisfied: certifi>=2017.4.17 in c:\\users\\pujit\\appdata\\local\\programs\\python\\python312\\lib\\site-packages (from requests->transformers) (2024.7.4)\n",
      "Requirement already satisfied: pywin32>=226 in c:\\users\\pujit\\appdata\\roaming\\python\\python312\\site-packages (from portalocker->sacrebleu) (306)\n",
      "Downloading matplotlib-3.9.1-cp312-cp312-win_amd64.whl (8.0 MB)\n",
      "   ---------------------------------------- 0.0/8.0 MB ? eta -:--:--\n",
      "    --------------------------------------- 0.2/8.0 MB 5.9 MB/s eta 0:00:02\n",
      "   - -------------------------------------- 0.3/8.0 MB 2.9 MB/s eta 0:00:03\n",
      "   -- ------------------------------------- 0.4/8.0 MB 2.9 MB/s eta 0:00:03\n",
      "   --- ------------------------------------ 0.7/8.0 MB 3.8 MB/s eta 0:00:02\n",
      "   ---- ----------------------------------- 1.0/8.0 MB 4.2 MB/s eta 0:00:02\n",
      "   ------ --------------------------------- 1.2/8.0 MB 4.3 MB/s eta 0:00:02\n",
      "   ------- -------------------------------- 1.4/8.0 MB 4.3 MB/s eta 0:00:02\n",
      "   -------- ------------------------------- 1.6/8.0 MB 4.3 MB/s eta 0:00:02\n",
      "   -------- ------------------------------- 1.8/8.0 MB 4.3 MB/s eta 0:00:02\n",
      "   --------- ------------------------------ 2.0/8.0 MB 4.2 MB/s eta 0:00:02\n",
      "   ---------- ----------------------------- 2.0/8.0 MB 4.1 MB/s eta 0:00:02\n",
      "   ----------- ---------------------------- 2.3/8.0 MB 4.1 MB/s eta 0:00:02\n",
      "   ------------ --------------------------- 2.5/8.0 MB 4.1 MB/s eta 0:00:02\n",
      "   -------------- ------------------------- 2.8/8.0 MB 4.2 MB/s eta 0:00:02\n",
      "   --------------- ------------------------ 3.1/8.0 MB 4.4 MB/s eta 0:00:02\n",
      "   ---------------- ----------------------- 3.3/8.0 MB 4.4 MB/s eta 0:00:02\n",
      "   ----------------- ---------------------- 3.6/8.0 MB 4.6 MB/s eta 0:00:01\n",
      "   ------------------ --------------------- 3.8/8.0 MB 4.4 MB/s eta 0:00:01\n",
      "   -------------------- ------------------- 4.0/8.0 MB 4.6 MB/s eta 0:00:01\n",
      "   --------------------- ------------------ 4.3/8.0 MB 4.7 MB/s eta 0:00:01\n",
      "   ----------------------- ---------------- 4.6/8.0 MB 4.8 MB/s eta 0:00:01\n",
      "   ------------------------ --------------- 4.9/8.0 MB 4.8 MB/s eta 0:00:01\n",
      "   ------------------------- -------------- 5.2/8.0 MB 4.9 MB/s eta 0:00:01\n",
      "   --------------------------- ------------ 5.4/8.0 MB 4.9 MB/s eta 0:00:01\n",
      "   ---------------------------- ----------- 5.6/8.0 MB 4.9 MB/s eta 0:00:01\n",
      "   ----------------------------- ---------- 5.9/8.0 MB 5.0 MB/s eta 0:00:01\n",
      "   ------------------------------ --------- 6.2/8.0 MB 5.0 MB/s eta 0:00:01\n",
      "   -------------------------------- ------- 6.5/8.0 MB 5.1 MB/s eta 0:00:01\n",
      "   --------------------------------- ------ 6.7/8.0 MB 5.1 MB/s eta 0:00:01\n",
      "   ---------------------------------- ----- 6.9/8.0 MB 5.2 MB/s eta 0:00:01\n",
      "   ----------------------------------- ---- 7.0/8.0 MB 5.0 MB/s eta 0:00:01\n",
      "   ------------------------------------ --- 7.2/8.0 MB 5.0 MB/s eta 0:00:01\n",
      "   ------------------------------------- -- 7.4/8.0 MB 4.9 MB/s eta 0:00:01\n",
      "   -------------------------------------- - 7.7/8.0 MB 4.9 MB/s eta 0:00:01\n",
      "   ---------------------------------------  8.0/8.0 MB 5.0 MB/s eta 0:00:01\n",
      "   ---------------------------------------- 8.0/8.0 MB 4.9 MB/s eta 0:00:00\n",
      "Downloading contourpy-1.2.1-cp312-cp312-win_amd64.whl (189 kB)\n",
      "   ---------------------------------------- 0.0/189.9 kB ? eta -:--:--\n",
      "   -------------------------------------- - 184.3/189.9 kB 5.4 MB/s eta 0:00:01\n",
      "   ---------------------------------------- 189.9/189.9 kB 3.8 MB/s eta 0:00:00\n",
      "Downloading cycler-0.12.1-py3-none-any.whl (8.3 kB)\n",
      "Downloading fonttools-4.53.1-cp312-cp312-win_amd64.whl (2.2 MB)\n",
      "   ---------------------------------------- 0.0/2.2 MB ? eta -:--:--\n",
      "   --- ------------------------------------ 0.2/2.2 MB 6.6 MB/s eta 0:00:01\n",
      "   ---------- ----------------------------- 0.6/2.2 MB 6.2 MB/s eta 0:00:01\n",
      "   --------------- ------------------------ 0.8/2.2 MB 6.6 MB/s eta 0:00:01\n",
      "   --------------- ------------------------ 0.8/2.2 MB 6.6 MB/s eta 0:00:01\n",
      "   ------------------ --------------------- 1.0/2.2 MB 4.6 MB/s eta 0:00:01\n",
      "   ------------------------ --------------- 1.4/2.2 MB 5.1 MB/s eta 0:00:01\n",
      "   ----------------------------- ---------- 1.6/2.2 MB 5.2 MB/s eta 0:00:01\n",
      "   ----------------------------------- ---- 1.9/2.2 MB 5.4 MB/s eta 0:00:01\n",
      "   ------------------------------------- -- 2.1/2.2 MB 5.5 MB/s eta 0:00:01\n",
      "   ---------------------------------------- 2.2/2.2 MB 5.0 MB/s eta 0:00:00\n",
      "Downloading kiwisolver-1.4.5-cp312-cp312-win_amd64.whl (56 kB)\n",
      "   ---------------------------------------- 0.0/56.0 kB ? eta -:--:--\n",
      "   ---------------------------------------- 56.0/56.0 kB 1.4 MB/s eta 0:00:00\n",
      "Downloading pyparsing-3.1.2-py3-none-any.whl (103 kB)\n",
      "   ---------------------------------------- 0.0/103.2 kB ? eta -:--:--\n",
      "   ---------------------------------------- 103.2/103.2 kB 2.9 MB/s eta 0:00:00\n",
      "Installing collected packages: pyparsing, kiwisolver, fonttools, cycler, contourpy, matplotlib\n",
      "Successfully installed contourpy-1.2.1 cycler-0.12.1 fonttools-4.53.1 kiwisolver-1.4.5 matplotlib-3.9.1 pyparsing-3.1.2\n"
     ]
    },
    {
     "name": "stderr",
     "output_type": "stream",
     "text": [
      "[nltk_data] Downloading package punkt to\n",
      "[nltk_data]     C:\\Users\\pujit\\AppData\\Roaming\\nltk_data...\n",
      "[nltk_data]   Unzipping tokenizers\\punkt.zip.\n"
     ]
    },
    {
     "data": {
      "text/plain": [
       "True"
      ]
     },
     "execution_count": 4,
     "metadata": {},
     "output_type": "execute_result"
    }
   ],
   "source": [
    "# Install the required packages\n",
    "!pip  install transformers datasets sacrebleu rouge_score py7zr matplotlib nltk pandas tqdm\n",
    "\n",
    "from transformers import pipeline,set_seed\n",
    "\n",
    "import matplotlib.pyplot as plt\n",
    "from datasets import load_dataset\n",
    "import pandas as pd\n",
    "from datasets import load_dataset,load_metric\n",
    "\n",
    "from transformers import AutoModelForSeq2SeqLM, AutoTokenizer\n",
    "\n",
    "import nltk\n",
    "from nltk.tokenize import sent_tokenize\n",
    "\n",
    "from tqdm import tqdm\n",
    "import torch\n",
    "\n",
    "nltk.download(\"punkt\")\n"
   ]
  },
  {
   "cell_type": "code",
   "execution_count": 5,
   "metadata": {},
   "outputs": [
    {
     "data": {
      "text/plain": [
       "'cpu'"
      ]
     },
     "execution_count": 5,
     "metadata": {},
     "output_type": "execute_result"
    }
   ],
   "source": [
    "#checking whether the gpu is being selected or not\n",
    "device=\"cuda\" if torch.cuda.is_available() else \"cpu\"\n",
    "device"
   ]
  }
 ],
 "metadata": {
  "kernelspec": {
   "display_name": "Python 3",
   "language": "python",
   "name": "python3"
  },
  "language_info": {
   "codemirror_mode": {
    "name": "ipython",
    "version": 3
   },
   "file_extension": ".py",
   "mimetype": "text/x-python",
   "name": "python",
   "nbconvert_exporter": "python",
   "pygments_lexer": "ipython3",
   "version": "3.12.4"
  }
 },
 "nbformat": 4,
 "nbformat_minor": 2
}
